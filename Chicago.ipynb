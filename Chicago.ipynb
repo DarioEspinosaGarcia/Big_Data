{
 "cells": [
  {
   "cell_type": "code",
   "execution_count": 1,
   "metadata": {},
   "outputs": [],
   "source": [
    "from pyspark.ml import Pipeline\n",
    "from pyspark.ml.classification import LogisticRegression\n",
    "from pyspark.ml.feature import HashingTF, Tokenizer, StandardScaler, VectorAssembler\n",
    "from pyspark.sql import SparkSession, functions as F, types, Window\n",
    "from pyspark.ml.clustering import KMeans\n",
    "from pyspark.ml.evaluation import ClusteringEvaluator\n",
    "import matplotlib.pyplot as plt\n",
    "import pandas as pd\n",
    "import folium as fol\n",
    "import haversine as hs\n",
    "\n",
    "#import org.apache.log4j.{Level, Logger}\n",
    "#from scipy.spatial import distance\n",
    "#from pyspark import sql"
   ]
  },
  {
   "cell_type": "markdown",
   "metadata": {},
   "source": [
    "Iniciamos la sesion spark"
   ]
  },
  {
   "cell_type": "code",
   "execution_count": 2,
   "metadata": {},
   "outputs": [],
   "source": [
    "sparkConf = SparkSession\\\n",
    "        .builder\\\n",
    "        .appName(\"Spark ML Clustering\")\\\n",
    "        .getOrCreate()"
   ]
  },
  {
   "cell_type": "markdown",
   "metadata": {},
   "source": [
    "Quitamos los mensajes de log de las ejecuciones de celdas"
   ]
  },
  {
   "cell_type": "code",
   "execution_count": 3,
   "metadata": {},
   "outputs": [],
   "source": [
    "#logger = sparkConf._jvm.org.apache.log4j\n",
    "#logger.LogManager.getLogger(\"org\").setLevel(logger.Level.WARN)\n",
    "#logger.LogManager.getLogger(\"org\").setLevel(logger.Level.INFO)\n",
    "\n",
    " "
   ]
  },
  {
   "cell_type": "markdown",
   "metadata": {},
   "source": [
    "Cargamos los datos del archivo csv"
   ]
  },
  {
   "cell_type": "code",
   "execution_count": 3,
   "metadata": {},
   "outputs": [],
   "source": [
    "    # Loads data\n",
    "    chicago_raw= sparkConf\\\n",
    "        .read\\\n",
    "        .format(\"csv\")\\\n",
    "        .option(\"header\", \"true\")\\\n",
    "        .load(\"..\\Datasets\\crimes.csv\")\n",
    "        #.load(sys.argv[1])"
   ]
  },
  {
   "cell_type": "markdown",
   "metadata": {},
   "source": [
    "Mostramos el dataset"
   ]
  },
  {
   "cell_type": "code",
   "execution_count": 4,
   "metadata": {},
   "outputs": [],
   "source": [
    "chicago_raw=chicago_raw.select(\"ID\",\"Date\",\"Primary Type\",\"Arrest\",\"Domestic\",\"District\",\"Latitude\",\"Longitude\")"
   ]
  },
  {
   "cell_type": "markdown",
   "metadata": {},
   "source": [
    "Ahora con Timestamp lo que tenemos en la columna de fecha es el numero de milisegundos desde el 1 de enero de 1970"
   ]
  },
  {
   "cell_type": "code",
   "execution_count": 5,
   "metadata": {},
   "outputs": [],
   "source": [
    "chicago_raw = chicago_raw.withColumn(\"Date\", F.to_timestamp(F.unix_timestamp(\"Date\", \"M/dd/yyyy hh:mm:ss a\").cast(\"timestamp\")))"
   ]
  },
  {
   "cell_type": "markdown",
   "metadata": {},
   "source": [
    "Lo pasamos a tipo fecha"
   ]
  },
  {
   "cell_type": "code",
   "execution_count": 6,
   "metadata": {},
   "outputs": [],
   "source": [
    "chicago_raw = chicago_raw.withColumn(\"Date\", F.to_date(F.unix_timestamp(\"Date\", \"M/dd/yyyy hh:mm:ss a\").cast(\"timestamp\")))"
   ]
  },
  {
   "cell_type": "code",
   "execution_count": 9,
   "metadata": {},
   "outputs": [
    {
     "name": "stdout",
     "output_type": "stream",
     "text": [
      "+--------+----------+------------------+------+--------+--------+------------+-------------+\n",
      "|      ID|      Date|      Primary Type|Arrest|Domestic|District|    Latitude|    Longitude|\n",
      "+--------+----------+------------------+------+--------+--------+------------+-------------+\n",
      "|10224738|2015-09-05|           BATTERY| false|    true|     009|41.815117282|-87.669999562|\n",
      "|10224739|2015-09-04|             THEFT| false|   false|     015|41.895080471|-87.765400451|\n",
      "|11646166|2018-09-01|             THEFT| false|    true|     006|        null|         null|\n",
      "|10224740|2015-09-05|         NARCOTICS|  true|   false|     014|41.937405765|-87.716649687|\n",
      "|10224741|2015-09-05|           ASSAULT| false|    true|     015|41.881903443|-87.755121152|\n",
      "|10224742|2015-09-05|          BURGLARY| false|   false|     006|41.744378879|-87.658430635|\n",
      "|10224743|2015-09-04|          BURGLARY| false|   false|     014|41.914635603|-87.681630909|\n",
      "|10224744|2015-09-05|             THEFT|  true|   false|     010|41.851988885|-87.689219118|\n",
      "|10224745|2015-09-05|           ROBBERY| false|    true|     012| 41.88281374|-87.704325717|\n",
      "|11645836|2016-05-01|DECEPTIVE PRACTICE| false|   false|     008|        null|         null|\n",
      "+--------+----------+------------------+------+--------+--------+------------+-------------+\n",
      "only showing top 10 rows\n",
      "\n"
     ]
    }
   ],
   "source": [
    "chicago_raw.show(10)"
   ]
  },
  {
   "cell_type": "markdown",
   "metadata": {},
   "source": [
    "Quitamos las filas con valores nulos del dataset"
   ]
  },
  {
   "cell_type": "code",
   "execution_count": 7,
   "metadata": {},
   "outputs": [
    {
     "data": {
      "text/plain": [
       "7433155"
      ]
     },
     "execution_count": 7,
     "metadata": {},
     "output_type": "execute_result"
    }
   ],
   "source": [
    "chicago_raw.count()"
   ]
  },
  {
   "cell_type": "code",
   "execution_count": 8,
   "metadata": {},
   "outputs": [],
   "source": [
    "chicago_raw=chicago_raw.na.drop()"
   ]
  },
  {
   "cell_type": "code",
   "execution_count": 9,
   "metadata": {},
   "outputs": [
    {
     "data": {
      "text/plain": [
       "7358359"
      ]
     },
     "execution_count": 9,
     "metadata": {},
     "output_type": "execute_result"
    }
   ],
   "source": [
    "chicago_raw.count()"
   ]
  },
  {
   "cell_type": "markdown",
   "metadata": {},
   "source": [
    "Exploramos la forma y el tamaño del dataframe con el que vamos a trabajar"
   ]
  },
  {
   "cell_type": "code",
   "execution_count": 11,
   "metadata": {},
   "outputs": [],
   "source": [
    "registro_outlier = chicago_raw.filter(chicago_raw['Latitude'] == 36.619446395)"
   ]
  },
  {
   "cell_type": "code",
   "execution_count": 14,
   "metadata": {},
   "outputs": [
    {
     "name": "stdout",
     "output_type": "stream",
     "text": [
      "+--------+----------+--------------------+------+--------+--------+------------+-------------+\n",
      "|      ID|      Date|        Primary Type|Arrest|Domestic|District|    Latitude|    Longitude|\n",
      "+--------+----------+--------------------+------+--------+--------+------------+-------------+\n",
      "|    1051|2001-09-03|            HOMICIDE|  true|   false|     010|36.619446395|-91.686565684|\n",
      "|    1206|2001-11-11|            HOMICIDE| false|   false|     011|36.619446395|-91.686565684|\n",
      "| 6063108|2008-01-30|             ROBBERY| false|   false|     009|36.619446395|-91.686565684|\n",
      "| 6125233|2008-02-15|  DECEPTIVE PRACTICE| false|   false|     016|36.619446395|-91.686565684|\n",
      "| 6200282|2008-04-12|               THEFT| false|   false|     014|36.619446395|-91.686565684|\n",
      "|11732417|2019-06-23|             BATTERY| false|    true|     011|36.619446395|-91.686565684|\n",
      "| 6169464|2008-03-26| CRIM SEXUAL ASSAULT| false|   false|     014|36.619446395|-91.686565684|\n",
      "| 6229358|2008-05-04|   WEAPONS VIOLATION|  true|   false|     012|36.619446395|-91.686565684|\n",
      "| 6412595|2008-08-03|             BATTERY|  true|   false|     014|36.619446395|-91.686565684|\n",
      "| 6380603|2008-07-17|PUBLIC PEACE VIOL...|  true|   false|     025|36.619446395|-91.686565684|\n",
      "|11889657|2019-11-12|           NARCOTICS|  true|   false|     001|36.619446395|-91.686565684|\n",
      "| 6522323|2008-09-22|             BATTERY| false|    true|     025|36.619446395|-91.686565684|\n",
      "| 6587597|2008-10-29| MOTOR VEHICLE THEFT| false|   false|     018|36.619446395|-91.686565684|\n",
      "| 6781464|2009-02-24|           NARCOTICS|  true|   false|     016|36.619446395|-91.686565684|\n",
      "| 6820341|2008-12-25| MOTOR VEHICLE THEFT| false|   false|     018|36.619446395|-91.686565684|\n",
      "| 6663337|2008-12-14|     CRIMINAL DAMAGE|  true|   false|     025|36.619446395|-91.686565684|\n",
      "| 6866350|2009-04-13| MOTOR VEHICLE THEFT| false|   false|     018|36.619446395|-91.686565684|\n",
      "| 7032277|2009-07-20|               THEFT| false|   false|     018|36.619446395|-91.686565684|\n",
      "| 7117120|2009-08-18|  DECEPTIVE PRACTICE| false|   false|     014|36.619446395|-91.686565684|\n",
      "| 7154283|2009-09-30|             ASSAULT|  true|   false|     014|36.619446395|-91.686565684|\n",
      "+--------+----------+--------------------+------+--------+--------+------------+-------------+\n",
      "only showing top 20 rows\n",
      "\n"
     ]
    }
   ],
   "source": [
    "registro_outlier.show()"
   ]
  },
  {
   "cell_type": "code",
   "execution_count": 12,
   "metadata": {},
   "outputs": [],
   "source": [
    "chicago_raw = chicago_raw.filter((chicago_raw['Latitude'] <= 42.221944) | \n",
    "                                    (chicago_raw['Longitude'] >= -87.967778) | \n",
    "                                    (chicago_raw['Latitude'] >= 41.541944) | \n",
    "                                    (chicago_raw['Longitude'] <= -87.287778))"
   ]
  },
  {
   "cell_type": "code",
   "execution_count": 13,
   "metadata": {},
   "outputs": [
    {
     "data": {
      "text/plain": [
       "7358243"
      ]
     },
     "execution_count": 13,
     "metadata": {},
     "output_type": "execute_result"
    }
   ],
   "source": [
    "chicago_raw.count()"
   ]
  },
  {
   "cell_type": "code",
   "execution_count": null,
   "metadata": {},
   "outputs": [],
   "source": []
  },
  {
   "cell_type": "markdown",
   "metadata": {},
   "source": [
    "Cambiamos el tipo de las columnas Latitude y Longitude a double y las de Arrest y Domestic que son booleanas a entero "
   ]
  },
  {
   "cell_type": "code",
   "execution_count": 18,
   "metadata": {
    "scrolled": true
   },
   "outputs": [
    {
     "name": "stdout",
     "output_type": "stream",
     "text": [
      "root\n",
      " |-- ID: string (nullable = true)\n",
      " |-- Date: date (nullable = true)\n",
      " |-- Primary Type: string (nullable = true)\n",
      " |-- Arrest: integer (nullable = true)\n",
      " |-- Domestic: integer (nullable = true)\n",
      " |-- District: integer (nullable = true)\n",
      " |-- Latitude: double (nullable = true)\n",
      " |-- Longitude: double (nullable = true)\n",
      "\n"
     ]
    }
   ],
   "source": [
    "chicago_raw = chicago_raw.withColumn(\"Latitude\", chicago_raw[\"Latitude\"].cast(types.DoubleType()))\n",
    "chicago_raw = chicago_raw.withColumn(\"Longitude\", chicago_raw[\"Longitude\"].cast(types.DoubleType()))\n",
    "chicago_raw = chicago_raw.withColumn(\"Arrest\", chicago_raw[\"Arrest\"].cast(types.BooleanType()))\n",
    "chicago_raw = chicago_raw.withColumn(\"Domestic\", chicago_raw[\"Domestic\"].cast(types.BooleanType()))\n",
    "chicago_raw = chicago_raw.withColumn(\"Arrest\", chicago_raw[\"Arrest\"].cast(types.IntegerType()))\n",
    "chicago_raw = chicago_raw.withColumn(\"Domestic\", chicago_raw[\"Domestic\"].cast(types.IntegerType()))\n",
    "chicago_raw = chicago_raw.withColumn(\"District\", chicago_raw[\"District\"].cast(types.IntegerType()))\n",
    "chicago_raw.printSchema()"
   ]
  },
  {
   "cell_type": "code",
   "execution_count": 19,
   "metadata": {},
   "outputs": [],
   "source": [
    "assemble=VectorAssembler(inputCols=[\n",
    "\n",
    " 'Latitude',\n",
    " 'Longitude'], outputCol='features')\n",
    "\n",
    "assembled_data=assemble.transform(chicago_raw)\n",
    "\n",
    "#assembled_data.show(2)"
   ]
  },
  {
   "cell_type": "code",
   "execution_count": 20,
   "metadata": {},
   "outputs": [
    {
     "name": "stdout",
     "output_type": "stream",
     "text": [
      "Silhouette with squared euclidean distance = 0.5541350729682784\n",
      "Cluster Centers: \n",
      "[ 41.78271802 -87.72886713]\n",
      "[ 41.99125492 -87.68393068]\n",
      "[ 41.8912409  -87.75322945]\n",
      "[ 41.74007018 -87.56384642]\n",
      "[ 41.86296447 -87.7070921 ]\n",
      "[ 41.9760997  -87.85491963]\n",
      "[ 41.82045956 -87.62234363]\n",
      "[ 41.68911972 -87.62759562]\n",
      "[ 41.78623041 -87.66947071]\n",
      "[ 41.76531267 -87.60885543]\n",
      "[ 41.94371185 -87.65816369]\n",
      "[ 41.73796693 -87.65701981]\n",
      "[ 41.91482353 -87.70769658]\n",
      "[ 41.94793551 -87.76406725]\n",
      "[ 41.88673599 -87.63975014]\n"
     ]
    }
   ],
   "source": [
    "# Entrenamos el modelo Kmeans\n",
    "kmeans = KMeans(featuresCol='features').setK(15).setSeed(1)\n",
    "model = kmeans.fit(assembled_data)\n",
    "\n",
    "# Hacemos las predicciones\n",
    "predictions = model.transform(assembled_data)\n",
    "\n",
    "# Evaluamos el cluster\n",
    "evaluator = ClusteringEvaluator()\n",
    "\n",
    "silhouette = evaluator.evaluate(predictions)\n",
    "print(\"Silhouette with squared euclidean distance = \" + str(silhouette))\n",
    "\n",
    "# Mostramos los resultados\n",
    "centers = model.clusterCenters()\n",
    "print(\"Cluster Centers: \")\n",
    "for center in centers:\n",
    "     print(center)"
   ]
  },
  {
   "cell_type": "markdown",
   "metadata": {},
   "source": [
    "Exportamos a csv los centroides, el orden en el que se muestran es el cluster al que representa "
   ]
  },
  {
   "cell_type": "code",
   "execution_count": 21,
   "metadata": {},
   "outputs": [],
   "source": [
    "df = pd.DataFrame(columns=['Latitude_C', 'Longitude_C'])\n",
    "for center in centers:\n",
    "    df.loc[len(df)] = [center[0], center[1]]\n",
    "\n",
    "df.to_csv('..\\Datasets\\centroides.csv', index_label = 'Cluster')"
   ]
  },
  {
   "cell_type": "markdown",
   "metadata": {},
   "source": [
    "Cargamos los centroides en un dataframe"
   ]
  },
  {
   "cell_type": "code",
   "execution_count": 22,
   "metadata": {},
   "outputs": [],
   "source": [
    "    centroides= sparkConf\\\n",
    "        .read\\\n",
    "        .format(\"csv\")\\\n",
    "        .option(\"header\", \"true\")\\\n",
    "        .load(\"..\\Datasets\\centroides.csv\")"
   ]
  },
  {
   "cell_type": "code",
   "execution_count": 104,
   "metadata": {},
   "outputs": [
    {
     "name": "stdout",
     "output_type": "stream",
     "text": [
      "Silhouette Score: 0.49205955554557795 i= 10\n",
      "Silhouette Score: 0.5444808623932896 i= 11\n",
      "Silhouette Score: 0.546314016094265 i= 12\n",
      "Silhouette Score: 0.5404772346108718 i= 13\n",
      "Silhouette Score: 0.5470369759309137 i= 14\n",
      "Silhouette Score: 0.5562680960051609 i= 15\n",
      "Silhouette Score: 0.5526647778686206 i= 16\n",
      "Silhouette Score: 0.5413358616626154 i= 17\n",
      "Silhouette Score: 0.5440012553306598 i= 18\n",
      "Silhouette Score: 0.5449947219115913 i= 19\n",
      "Silhouette Score: 0.5407585808891094 i= 20\n"
     ]
    }
   ],
   "source": [
    "#Tenemos que estudiar como se está calculando el evaluador, si es mejor bajo o alto y utilizar la distancia a Manhattan\n",
    "silhouette_score=[]\n",
    "evaluator = ClusteringEvaluator()\n",
    "prediction_max = None\n",
    "centroids_max = None\n",
    "score_max = 0\n",
    "\n",
    "\n",
    "for i in range(10,21):\n",
    "    \n",
    "    KMeans_algo=KMeans(featuresCol='features', k=i)\n",
    "    \n",
    "    KMeans_fit=KMeans_algo.fit(assembled_data)    \n",
    "    output=KMeans_fit.transform(assembled_data) \n",
    "    \n",
    "    score=evaluator.evaluate(output)\n",
    "    \n",
    "    silhouette_score.append(score)\n",
    "    \n",
    "    if(score > score_max):\n",
    "        prediction_max = output\n",
    "        centroids_max = KMeans_fit.clusterCenters()\n",
    "        score_max = score\n",
    "    \n",
    "    print(\"Silhouette Score:\",score,\"i=\",i)"
   ]
  },
  {
   "cell_type": "code",
   "execution_count": 105,
   "metadata": {},
   "outputs": [
    {
     "data": {
      "text/plain": [
       "Text(0, 0.5, 'silhoutte')"
      ]
     },
     "execution_count": 105,
     "metadata": {},
     "output_type": "execute_result"
    },
    {
     "data": {
      "image/png": "[encoded data removed]",
      "text/plain": [
       "<Figure size 576x432 with 1 Axes>"
      ]
     },
     "metadata": {
      "needs_background": "light"
     },
     "output_type": "display_data"
    }
   ],
   "source": [
    "#Visualizing the silhouette scores in a plot\n",
    "\n",
    "fig, ax = plt.subplots(1,1, figsize =(8,6))\n",
    "ax.plot(range(10,21),silhouette_score)\n",
    "ax.set_xlabel('k')\n",
    "ax.set_ylabel('silhoutte')"
   ]
  },
  {
   "cell_type": "code",
   "execution_count": 57,
   "metadata": {},
   "outputs": [
    {
     "name": "stdout",
     "output_type": "stream",
     "text": [
      "Silhouette Score: 0.5439370142322393 i= 21\n",
      "Silhouette Score: 0.5400081063973012 i= 22\n",
      "Silhouette Score: 0.5592254558122508 i= 23\n",
      "Silhouette Score: 0.5495497056030424 i= 24\n",
      "Silhouette Score: 0.5365775679079144 i= 25\n",
      "Silhouette Score: 0.5507086840398722 i= 26\n",
      "Silhouette Score: 0.5392060407883819 i= 27\n",
      "Silhouette Score: 0.5370101120449307 i= 28\n",
      "Silhouette Score: 0.5385754645911116 i= 29\n",
      "Silhouette Score: 0.5513085359937699 i= 30\n"
     ]
    }
   ],
   "source": [
    "#Tenemos que estudiar como se está calculando el evaluador, si es mejor bajo o alto y utilizar la distancia a Manhattan\n",
    "silhouette_score30=[]\n",
    "evaluator30 = ClusteringEvaluator()\n",
    "prediction_max30 = None\n",
    "centroids_max30 = None\n",
    "score_max30 = 0\n",
    "\n",
    "\n",
    "for i in range(21,31):\n",
    "    \n",
    "    KMeans_algo30=KMeans(featuresCol='features', k=i)\n",
    "    \n",
    "    KMeans_fit30=KMeans_algo30.fit(assembled_data)    \n",
    "    output30=KMeans_fit30.transform(assembled_data) \n",
    "    \n",
    "    score30=evaluator30.evaluate(output30)\n",
    "    \n",
    "    silhouette_score30.append(score30)\n",
    "    \n",
    "    if(score30 > score_max30):\n",
    "        prediction_max30 = output30\n",
    "        centroids_max30 = KMeans_fit30.clusterCenters()\n",
    "        score_max30 = score30\n",
    "    \n",
    "    print(\"Silhouette Score:\",score30,\"i=\",i)"
   ]
  },
  {
   "cell_type": "code",
   "execution_count": 59,
   "metadata": {},
   "outputs": [
    {
     "data": {
      "text/plain": [
       "Text(0, 0.5, 'silhoutte')"
      ]
     },
     "execution_count": 59,
     "metadata": {},
     "output_type": "execute_result"
    },
    {
     "data": {
      "image/png": "[encoded data removed]",
      "text/plain": [
       "<Figure size 576x432 with 1 Axes>"
      ]
     },
     "metadata": {
      "needs_background": "light"
     },
     "output_type": "display_data"
    }
   ],
   "source": [
    "#Visualizing the silhouette scores in a plot\n",
    "\n",
    "fig, ax = plt.subplots(1,1, figsize =(8,6))\n",
    "ax.plot(range(21,31),silhouette_score30)\n",
    "ax.set_xlabel('k')\n",
    "ax.set_ylabel('silhoutte')"
   ]
  },
  {
   "cell_type": "code",
   "execution_count": 23,
   "metadata": {},
   "outputs": [],
   "source": [
    "predictions_processed1 = predictions[['ID','Primary Type','Arrest','Domestic','District','prediction','Latitude','Longitude']]"
   ]
  },
  {
   "cell_type": "code",
   "execution_count": 24,
   "metadata": {},
   "outputs": [],
   "source": [
    "predictions_processed1 = predictions_processed1.withColumnRenamed(\"prediction\",\"Cluster\")"
   ]
  },
  {
   "cell_type": "code",
   "execution_count": 25,
   "metadata": {},
   "outputs": [],
   "source": [
    "predictions_processed1 =  predictions_processed1.join(centroides, on = 'Cluster')"
   ]
  },
  {
   "cell_type": "code",
   "execution_count": 26,
   "metadata": {},
   "outputs": [],
   "source": [
    "predictions_processed1.repartition(1)\\\n",
    "    .write.format(\"csv\")\\\n",
    "    .mode(\"overwrite\")\\\n",
    "    .option(\"header\", \"true\")\\\n",
    "    .save(\"..\\Datasets\\Resultados\")"
   ]
  },
  {
   "cell_type": "markdown",
   "metadata": {},
   "source": [
    "IMPORTAMOS EL CSV PARA NO TENER QUE REALIZAR EL CLUSTERING CADA VEZ QUE VOLVEMOS A TRABAJAR"
   ]
  },
  {
   "cell_type": "code",
   "execution_count": 27,
   "metadata": {},
   "outputs": [],
   "source": [
    "    # Loads data\n",
    "    chicago_procesed= sparkConf\\\n",
    "        .read\\\n",
    "        .format(\"csv\")\\\n",
    "        .option(\"header\", \"true\")\\\n",
    "        .load(\"..\\Datasets\\procesado.csv\")"
   ]
  },
  {
   "cell_type": "code",
   "execution_count": 28,
   "metadata": {},
   "outputs": [
    {
     "data": {
      "text/plain": [
       "7358243"
      ]
     },
     "execution_count": 28,
     "metadata": {},
     "output_type": "execute_result"
    }
   ],
   "source": [
    "chicago_procesed.count()"
   ]
  },
  {
   "cell_type": "markdown",
   "metadata": {},
   "source": [
    "Agregamos el dataframe para trabajar con algo más ligero y manejable. Esto nos permite un desarrollo más ágil y menor tiempo de computo de cada celda posterior."
   ]
  },
  {
   "cell_type": "code",
   "execution_count": 29,
   "metadata": {},
   "outputs": [],
   "source": [
    "chicago_procesed_agg_KPI = chicago_procesed.groupBy('Primary Type','Arrest','Domestic','District','Cluster') \\\n",
    ".count() \\\n",
    ".withColumnRenamed(\"count\",\"num_crimes\")"
   ]
  },
  {
   "cell_type": "code",
   "execution_count": 30,
   "metadata": {},
   "outputs": [],
   "source": [
    "chicago_procesed_agg_KPI.repartition(1)\\\n",
    "    .write.format(\"csv\")\\\n",
    "    .mode(\"overwrite\")\\\n",
    "    .option(\"header\", \"true\")\\\n",
    "    .save(\"..\\Datasets\\KPI\")"
   ]
  },
  {
   "cell_type": "code",
   "execution_count": 31,
   "metadata": {},
   "outputs": [],
   "source": [
    "    # Loads data\n",
    "    chicago_procesed_agg_KPI= sparkConf\\\n",
    "        .read\\\n",
    "        .format(\"csv\")\\\n",
    "        .option(\"header\", \"true\")\\\n",
    "        .load(\"..\\Datasets\\df_kpi.csv\")"
   ]
  },
  {
   "cell_type": "code",
   "execution_count": 35,
   "metadata": {},
   "outputs": [],
   "source": [
    "chicago_procesed_agg_KPI = chicago_procesed_agg_KPI.withColumn(\"num_crimes\", chicago_procesed_agg_KPI[\"num_crimes\"].cast(types.IntegerType()))"
   ]
  },
  {
   "cell_type": "markdown",
   "metadata": {},
   "source": [
    "A continuación se valida los resultados del dataframe agregado con el que se trabajará"
   ]
  },
  {
   "cell_type": "code",
   "execution_count": 32,
   "metadata": {},
   "outputs": [
    {
     "name": "stdout",
     "output_type": "stream",
     "text": [
      "+--------------------+------+--------+--------+-------+----------+\n",
      "|        Primary Type|Arrest|Domestic|District|Cluster|num_crimes|\n",
      "+--------------------+------+--------+--------+-------+----------+\n",
      "|   CRIMINAL TRESPASS|     1|       0|       1|     14|     10963|\n",
      "|             BATTERY|     1|       0|      17|     13|      1762|\n",
      "|             ROBBERY|     0|       0|      24|      1|      7543|\n",
      "|            BURGLARY|     0|       0|      15|      2|      9843|\n",
      "|             ROBBERY|     0|       0|      25|     13|      4501|\n",
      "|             ASSAULT|     0|       0|       4|      9|      1364|\n",
      "|     CRIMINAL DAMAGE|     0|       1|      11|      2|      1434|\n",
      "|INTERFERENCE WITH...|     1|       0|      25|     12|       345|\n",
      "|INTERFERENCE WITH...|     1|       0|      22|      7|       212|\n",
      "|               THEFT|     0|       0|       7|      6|       570|\n",
      "+--------------------+------+--------+--------+-------+----------+\n",
      "only showing top 10 rows\n",
      "\n"
     ]
    }
   ],
   "source": [
    "chicago_procesed_agg_KPI.show(10)"
   ]
  },
  {
   "cell_type": "code",
   "execution_count": 33,
   "metadata": {},
   "outputs": [
    {
     "data": {
      "text/plain": [
       "5704"
      ]
     },
     "execution_count": 33,
     "metadata": {},
     "output_type": "execute_result"
    }
   ],
   "source": [
    "chicago_procesed_agg_KPI.count()"
   ]
  },
  {
   "cell_type": "code",
   "execution_count": 36,
   "metadata": {},
   "outputs": [],
   "source": [
    "chicago_procesed_agg_KPI_2 = chicago_procesed_agg_KPI.groupBy('District','Cluster').sum('num_crimes').withColumnRenamed(\"sum(num_crimes)\",\"num_crimes\")"
   ]
  },
  {
   "cell_type": "code",
   "execution_count": 37,
   "metadata": {},
   "outputs": [
    {
     "name": "stdout",
     "output_type": "stream",
     "text": [
      "+--------+-------+----------+\n",
      "|District|Cluster|num_crimes|\n",
      "+--------+-------+----------+\n",
      "|      31|      3|        13|\n",
      "|      31|      7|         3|\n",
      "|       9|      4|     28413|\n",
      "|      31|      1|        27|\n",
      "|      12|      7|         1|\n",
      "|      20|     10|     23126|\n",
      "|      15|      0|         1|\n",
      "|      31|     11|        19|\n",
      "|       7|      1|         1|\n",
      "|      31|     13|         6|\n",
      "+--------+-------+----------+\n",
      "only showing top 10 rows\n",
      "\n"
     ]
    }
   ],
   "source": [
    "chicago_procesed_agg_KPI_2.show(10)"
   ]
  },
  {
   "cell_type": "code",
   "execution_count": 38,
   "metadata": {},
   "outputs": [
    {
     "name": "stdout",
     "output_type": "stream",
     "text": [
      "+--------+-------+----------+\n",
      "|District|Cluster|num_crimes|\n",
      "+--------+-------+----------+\n",
      "|31      |3      |13        |\n",
      "|31      |7      |3         |\n",
      "|31      |1      |27        |\n",
      "|31      |11     |19        |\n",
      "|31      |13     |6         |\n",
      "|31      |14     |1         |\n",
      "|31      |12     |3         |\n",
      "|31      |8      |7         |\n",
      "|31      |9      |2         |\n",
      "|31      |5      |125       |\n",
      "|31      |2      |9         |\n",
      "|31      |10     |2         |\n",
      "|31      |4      |1         |\n",
      "+--------+-------+----------+\n",
      "\n"
     ]
    }
   ],
   "source": [
    "chicago_procesed_agg_KPI_2.filter(chicago_procesed_agg_KPI_2.District  == \"31\")\\\n",
    "    .show(truncate=False)"
   ]
  },
  {
   "cell_type": "markdown",
   "metadata": {},
   "source": [
    "Empezamos a dibujar los poligonos"
   ]
  },
  {
   "cell_type": "code",
   "execution_count": 39,
   "metadata": {},
   "outputs": [],
   "source": [
    "poligonos=chicago_procesed[['Cluster','Latitude', 'Longitude','Latitude_C', 'Longitude_C']]\n",
    "#poligonos.show(10)"
   ]
  },
  {
   "cell_type": "code",
   "execution_count": 40,
   "metadata": {},
   "outputs": [
    {
     "data": {
      "text/plain": [
       "7358243"
      ]
     },
     "execution_count": 40,
     "metadata": {},
     "output_type": "execute_result"
    }
   ],
   "source": [
    "poligonos.count()"
   ]
  },
  {
   "cell_type": "code",
   "execution_count": 41,
   "metadata": {},
   "outputs": [],
   "source": [
    "poligonos_processed = poligonos.groupBy('Cluster','Latitude', 'Longitude','Latitude_C', 'Longitude_C') \\\n",
    ".count() \\\n",
    ".withColumnRenamed(\"count\",\"num_crimes\")\n",
    "\n",
    "#poligonos_processed.show(2)"
   ]
  },
  {
   "cell_type": "code",
   "execution_count": 42,
   "metadata": {},
   "outputs": [
    {
     "data": {
      "text/plain": [
       "880734"
      ]
     },
     "execution_count": 42,
     "metadata": {},
     "output_type": "execute_result"
    }
   ],
   "source": [
    "poligonos_processed.count()"
   ]
  },
  {
   "cell_type": "markdown",
   "metadata": {},
   "source": [
    "Usamos el dataframe de centroides y el de poligonos procesados y recorremos por cada cluster"
   ]
  },
  {
   "cell_type": "code",
   "execution_count": 43,
   "metadata": {},
   "outputs": [],
   "source": [
    "poligonos_processed = poligonos_processed.withColumn(\"Latitude\", poligonos_processed[\"Latitude\"].cast(types.DoubleType()))\n",
    "poligonos_processed = poligonos_processed.withColumn(\"Longitude\", poligonos_processed[\"Longitude\"].cast(types.DoubleType()))\n",
    "poligonos_processed = poligonos_processed.withColumn(\"Latitude_C\", poligonos_processed[\"Latitude_C\"].cast(types.DoubleType()))\n",
    "poligonos_processed = poligonos_processed.withColumn(\"Longitude_C\", poligonos_processed[\"Longitude_C\"].cast(types.DoubleType()))\n",
    "poligonos_processed = poligonos_processed.withColumn(\"Cluster\", poligonos_processed[\"Cluster\"].cast(types.IntegerType()))"
   ]
  },
  {
   "cell_type": "code",
   "execution_count": 44,
   "metadata": {},
   "outputs": [],
   "source": [
    "assemble2=VectorAssembler(inputCols=[\n",
    "\n",
    " 'Latitude',\n",
    " 'Longitude'], outputCol='features')\n",
    "\n",
    "assembled_data2=assemble2.transform(poligonos_processed)\n",
    "\n",
    "#assembled_data2.show(2)"
   ]
  },
  {
   "cell_type": "code",
   "execution_count": 45,
   "metadata": {},
   "outputs": [],
   "source": [
    "assemble3=VectorAssembler(inputCols=[\n",
    "\n",
    " 'Latitude_C',\n",
    " 'Longitude_C'], outputCol='features_C')\n",
    "\n",
    "assembled_data3=assemble3.transform(assembled_data2)\n",
    "\n",
    "#assembled_data3.show(2)"
   ]
  },
  {
   "cell_type": "code",
   "execution_count": 46,
   "metadata": {},
   "outputs": [
    {
     "data": {
      "text/plain": [
       "880734"
      ]
     },
     "execution_count": 46,
     "metadata": {},
     "output_type": "execute_result"
    }
   ],
   "source": [
    "assembled_data3.count()"
   ]
  },
  {
   "cell_type": "code",
   "execution_count": 47,
   "metadata": {},
   "outputs": [],
   "source": [
    "distance_udf = F.udf(lambda x,y: float(hs.haversine(x, y,unit=hs.Unit.METERS)), types.FloatType())"
   ]
  },
  {
   "cell_type": "code",
   "execution_count": 48,
   "metadata": {},
   "outputs": [],
   "source": [
    "poligonos_processed = assembled_data3.withColumn('Distances', distance_udf(F.col('features'),F.col('features_C')))"
   ]
  },
  {
   "cell_type": "code",
   "execution_count": 49,
   "metadata": {},
   "outputs": [],
   "source": [
    "poligonos_processed = poligonos_processed[['Cluster','Latitude_C', 'Longitude_C','Distances','Latitude', 'Longitude']]"
   ]
  },
  {
   "cell_type": "code",
   "execution_count": 80,
   "metadata": {},
   "outputs": [],
   "source": [
    "Circulos = poligonos_processed.groupby('Cluster','Latitude_C','Longitude_C').agg({\"Distances\":\"avg\"})\\\n",
    "    .withColumnRenamed(\"avg(Distances)\",\"Distances\")"
   ]
  },
  {
   "cell_type": "code",
   "execution_count": 84,
   "metadata": {},
   "outputs": [],
   "source": [
    "Circulos.repartition(1)\\\n",
    "    .write.format(\"csv\")\\\n",
    "    .mode(\"overwrite\")\\\n",
    "    .option(\"header\", \"true\")\\\n",
    "    .save(\"..\\Datasets\\Circulos\")"
   ]
  },
  {
   "cell_type": "code",
   "execution_count": 71,
   "metadata": {},
   "outputs": [],
   "source": [
    "poligonos_processed2=poligonos_processed[['Distances','Latitude', 'Longitude']]"
   ]
  },
  {
   "cell_type": "code",
   "execution_count": 81,
   "metadata": {},
   "outputs": [],
   "source": [
    "Circulos2 = Circulos.join(poligonos_processed2, on = 'Distances')"
   ]
  },
  {
   "cell_type": "code",
   "execution_count": 78,
   "metadata": {},
   "outputs": [
    {
     "name": "stdout",
     "output_type": "stream",
     "text": [
      "+---------+-------+----------+-----------+--------+---------+\n",
      "|Distances|Cluster|Latitude_C|Longitude_C|Latitude|Longitude|\n",
      "+---------+-------+----------+-----------+--------+---------+\n",
      "+---------+-------+----------+-----------+--------+---------+\n",
      "\n"
     ]
    }
   ],
   "source": [
    "#Con 6 Cluster tenemos:\n",
    "Circulos2.show()"
   ]
  },
  {
   "cell_type": "code",
   "execution_count": 82,
   "metadata": {},
   "outputs": [
    {
     "data": {
      "text/plain": [
       "0"
      ]
     },
     "execution_count": 82,
     "metadata": {},
     "output_type": "execute_result"
    }
   ],
   "source": [
    "Circulos2.count()"
   ]
  },
  {
   "cell_type": "code",
   "execution_count": 83,
   "metadata": {},
   "outputs": [
    {
     "data": {
      "text/plain": [
       "['Distances', 'Cluster', 'Latitude_C', 'Longitude_C', 'Latitude', 'Longitude']"
      ]
     },
     "execution_count": 83,
     "metadata": {},
     "output_type": "execute_result"
    }
   ],
   "source": [
    "Circulos2.columns"
   ]
  },
  {
   "cell_type": "code",
   "execution_count": 68,
   "metadata": {},
   "outputs": [
    {
     "name": "stdout",
     "output_type": "stream",
     "text": [
      "+-------------------+\n",
      "|      min(datetime)|\n",
      "+-------------------+\n",
      "|2001-01-01 00:00:00|\n",
      "+-------------------+\n",
      "\n"
     ]
    }
   ],
   "source": [
    "chicago_raw.withColumn(\"datetime\", F.col(\"Date\").cast(\"timestamp\"))\\\n",
    "    .groupBy().agg(F.min(\"datetime\")).show()"
   ]
  },
  {
   "cell_type": "code",
   "execution_count": null,
   "metadata": {},
   "outputs": [],
   "source": []
  },
  {
   "cell_type": "code",
   "execution_count": null,
   "metadata": {},
   "outputs": [],
   "source": []
  },
  {
   "cell_type": "code",
   "execution_count": 54,
   "metadata": {},
   "outputs": [],
   "source": [
    "prueba = chicago_procesed.groupBy('Cluster','Latitude','Longitude') \\\n",
    ".count() \\\n",
    ".withColumnRenamed(\"count\",\"num_crimes\")"
   ]
  },
  {
   "cell_type": "code",
   "execution_count": 55,
   "metadata": {},
   "outputs": [],
   "source": []
  },
  {
   "cell_type": "code",
   "execution_count": null,
   "metadata": {},
   "outputs": [],
   "source": []
  }
 ],
 "metadata": {
  "kernelspec": {
   "display_name": "Python 3",
   "language": "python",
   "name": "python3"
  },
  "language_info": {
   "codemirror_mode": {
    "name": "ipython",
    "version": 3
   },
   "file_extension": ".py",
   "mimetype": "text/x-python",
   "name": "python",
   "nbconvert_exporter": "python",
   "pygments_lexer": "ipython3",
   "version": "3.8.8"
  }
 },
 "nbformat": 4,
 "nbformat_minor": 2
}

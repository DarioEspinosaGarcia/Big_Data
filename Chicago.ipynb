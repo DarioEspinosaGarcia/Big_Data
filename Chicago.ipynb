{
 "cells": [
  {
   "cell_type": "code",
   "execution_count": 1,
   "metadata": {},
   "outputs": [],
   "source": [
    "from pyspark.ml import Pipeline\n",
    "from pyspark.ml.classification import LogisticRegression\n",
    "from pyspark.ml.feature import HashingTF, Tokenizer, StandardScaler, VectorAssembler\n",
    "from pyspark.sql import SparkSession, functions as F, types\n",
    "from pyspark.ml.clustering import KMeans\n",
    "from pyspark.ml.evaluation import ClusteringEvaluator\n",
    "import matplotlib.pyplot as plt\n",
    "#import org.apache.log4j.{Level, Logger}\n",
    "\n"
   ]
  },
  {
   "cell_type": "markdown",
   "metadata": {},
   "source": [
    "Iniciamos la sesion spark"
   ]
  },
  {
   "cell_type": "code",
   "execution_count": 2,
   "metadata": {},
   "outputs": [],
   "source": [
    "sparkConf = SparkSession\\\n",
    "        .builder\\\n",
    "        .appName(\"Spark ML Clustering\")\\\n",
    "        .getOrCreate()"
   ]
  },
  {
   "cell_type": "markdown",
   "metadata": {},
   "source": [
    "Texto"
   ]
  },
  {
   "cell_type": "code",
   "execution_count": 3,
   "metadata": {},
   "outputs": [],
   "source": [
    "#logger = sparkConf._jvm.org.apache.log4j\n",
    "#logger.LogManager.getLogger(\"org\").setLevel(logger.Level.WARN)\n",
    "#logger.LogManager.getLogger(\"org\").setLevel(logger.Level.INFO)\n",
    "\n",
    " "
   ]
  },
  {
   "cell_type": "markdown",
   "metadata": {},
   "source": [
    "Cargamos los datos del archivo csv"
   ]
  },
  {
   "cell_type": "code",
   "execution_count": 3,
   "metadata": {},
   "outputs": [],
   "source": [
    "    # Loads data\n",
    "    chicago_raw= sparkConf\\\n",
    "        .read\\\n",
    "        .format(\"csv\")\\\n",
    "        .option(\"header\", \"true\")\\\n",
    "        .load(\"crimes.csv\")\n",
    "        #.load(sys.argv[1])"
   ]
  },
  {
   "cell_type": "markdown",
   "metadata": {},
   "source": [
    "Mostramos el dataset"
   ]
  },
  {
   "cell_type": "code",
   "execution_count": 4,
   "metadata": {},
   "outputs": [],
   "source": [
    "chicago_raw=chicago_raw.select(\"ID\",\"Date\",\"Primary Type\",\"Arrest\",\"Domestic\",\"District\",\"Latitude\",\"Longitude\")"
   ]
  },
  {
   "cell_type": "markdown",
   "metadata": {},
   "source": [
    "Ahora con Timestamp lo que tenemos en la columna de fecha es el numero de milisegundos desde el 1 de enero de 1970"
   ]
  },
  {
   "cell_type": "code",
   "execution_count": 5,
   "metadata": {},
   "outputs": [],
   "source": [
    "chicago_raw = chicago_raw.withColumn(\"Date\", F.to_timestamp(F.unix_timestamp(\"Date\", \"M/dd/yyyy hh:mm:ss a\").cast(\"timestamp\")))"
   ]
  },
  {
   "cell_type": "code",
   "execution_count": null,
   "metadata": {},
   "outputs": [],
   "source": [
    "Lo pasamos a tipo fecha"
   ]
  },
  {
   "cell_type": "code",
   "execution_count": 6,
   "metadata": {},
   "outputs": [],
   "source": [
    "chicago_raw = chicago_raw.withColumn(\"Date\", F.to_date(F.unix_timestamp(\"Date\", \"M/dd/yyyy hh:mm:ss a\").cast(\"timestamp\")))"
   ]
  },
  {
   "cell_type": "code",
   "execution_count": 8,
   "metadata": {},
   "outputs": [
    {
     "name": "stdout",
     "output_type": "stream",
     "text": [
      "+--------+----------+------------------+------+--------+--------+------------+-------------+\n",
      "|      ID|      Date|      Primary Type|Arrest|Domestic|District|    Latitude|    Longitude|\n",
      "+--------+----------+------------------+------+--------+--------+------------+-------------+\n",
      "|10224738|2015-09-05|           BATTERY| false|    true|     009|41.815117282|-87.669999562|\n",
      "|10224739|2015-09-04|             THEFT| false|   false|     015|41.895080471|-87.765400451|\n",
      "|11646166|2018-09-01|             THEFT| false|    true|     006|        null|         null|\n",
      "|10224740|2015-09-05|         NARCOTICS|  true|   false|     014|41.937405765|-87.716649687|\n",
      "|10224741|2015-09-05|           ASSAULT| false|    true|     015|41.881903443|-87.755121152|\n",
      "|10224742|2015-09-05|          BURGLARY| false|   false|     006|41.744378879|-87.658430635|\n",
      "|10224743|2015-09-04|          BURGLARY| false|   false|     014|41.914635603|-87.681630909|\n",
      "|10224744|2015-09-05|             THEFT|  true|   false|     010|41.851988885|-87.689219118|\n",
      "|10224745|2015-09-05|           ROBBERY| false|    true|     012| 41.88281374|-87.704325717|\n",
      "|11645836|2016-05-01|DECEPTIVE PRACTICE| false|   false|     008|        null|         null|\n",
      "+--------+----------+------------------+------+--------+--------+------------+-------------+\n",
      "only showing top 10 rows\n",
      "\n"
     ]
    }
   ],
   "source": [
    "chicago_raw.show(10)"
   ]
  },
  {
   "cell_type": "markdown",
   "metadata": {},
   "source": [
    "Quitamos las filas con valores nulos del dataset"
   ]
  },
  {
   "cell_type": "code",
   "execution_count": 7,
   "metadata": {},
   "outputs": [],
   "source": [
    "chicago_raw=chicago_raw.na.drop()"
   ]
  },
  {
   "cell_type": "markdown",
   "metadata": {},
   "source": [
    "Exploramos la forma y el tamaño del dataframe con el que vamos a trabajar"
   ]
  },
  {
   "cell_type": "code",
   "execution_count": 8,
   "metadata": {},
   "outputs": [
    {
     "name": "stdout",
     "output_type": "stream",
     "text": [
      "+--------+----------+------------+------+--------+--------+------------+-------------+\n",
      "|      ID|      Date|Primary Type|Arrest|Domestic|District|    Latitude|    Longitude|\n",
      "+--------+----------+------------+------+--------+--------+------------+-------------+\n",
      "|10224738|2015-09-05|     BATTERY| false|    true|     009|41.815117282|-87.669999562|\n",
      "|10224739|2015-09-04|       THEFT| false|   false|     015|41.895080471|-87.765400451|\n",
      "|10224740|2015-09-05|   NARCOTICS|  true|   false|     014|41.937405765|-87.716649687|\n",
      "|10224741|2015-09-05|     ASSAULT| false|    true|     015|41.881903443|-87.755121152|\n",
      "|10224742|2015-09-05|    BURGLARY| false|   false|     006|41.744378879|-87.658430635|\n",
      "|10224743|2015-09-04|    BURGLARY| false|   false|     014|41.914635603|-87.681630909|\n",
      "|10224744|2015-09-05|       THEFT|  true|   false|     010|41.851988885|-87.689219118|\n",
      "|10224745|2015-09-05|     ROBBERY| false|    true|     012| 41.88281374|-87.704325717|\n",
      "|10224746|2015-09-05|       THEFT| false|   false|     008|41.763647552|-87.722344693|\n",
      "|10224749|2015-09-05|     BATTERY| false|   false|     016|41.975968415|-87.768014257|\n",
      "+--------+----------+------------+------+--------+--------+------------+-------------+\n",
      "only showing top 10 rows\n",
      "\n"
     ]
    }
   ],
   "source": [
    "chicago_raw.show(10)"
   ]
  },
  {
   "cell_type": "code",
   "execution_count": 49,
   "metadata": {},
   "outputs": [
    {
     "data": {
      "text/plain": [
       "7358359"
      ]
     },
     "execution_count": 49,
     "metadata": {},
     "output_type": "execute_result"
    }
   ],
   "source": [
    "chicago_raw.count()"
   ]
  },
  {
   "cell_type": "markdown",
   "metadata": {},
   "source": [
    "Cambiamos el tipo de las columnas Latitude y Longitude a double y las de Arrest y Domestic que son booleanas a entero "
   ]
  },
  {
   "cell_type": "code",
   "execution_count": 9,
   "metadata": {
    "scrolled": true
   },
   "outputs": [
    {
     "name": "stdout",
     "output_type": "stream",
     "text": [
      "root\n",
      " |-- ID: string (nullable = true)\n",
      " |-- Date: date (nullable = true)\n",
      " |-- Primary Type: string (nullable = true)\n",
      " |-- Arrest: integer (nullable = true)\n",
      " |-- Domestic: integer (nullable = true)\n",
      " |-- District: string (nullable = true)\n",
      " |-- Latitude: double (nullable = true)\n",
      " |-- Longitude: double (nullable = true)\n",
      "\n"
     ]
    }
   ],
   "source": [
    "chicago_raw = chicago_raw.withColumn(\"Latitude\", chicago_raw[\"Latitude\"].cast(types.DoubleType()))\n",
    "chicago_raw = chicago_raw.withColumn(\"Longitude\", chicago_raw[\"Longitude\"].cast(types.DoubleType()))\n",
    "chicago_raw = chicago_raw.withColumn(\"Arrest\", chicago_raw[\"Arrest\"].cast(types.BooleanType()))\n",
    "chicago_raw = chicago_raw.withColumn(\"Domestic\", chicago_raw[\"Domestic\"].cast(types.BooleanType()))\n",
    "chicago_raw = chicago_raw.withColumn(\"Arrest\", chicago_raw[\"Arrest\"].cast(types.IntegerType()))\n",
    "chicago_raw = chicago_raw.withColumn(\"Domestic\", chicago_raw[\"Domestic\"].cast(types.IntegerType()))\n",
    "chicago_raw.printSchema()"
   ]
  },
  {
   "cell_type": "code",
   "execution_count": 10,
   "metadata": {},
   "outputs": [
    {
     "name": "stdout",
     "output_type": "stream",
     "text": [
      "+--------+----------+------------+------+--------+--------+------------+-------------+--------------------+\n",
      "|      ID|      Date|Primary Type|Arrest|Domestic|District|    Latitude|    Longitude|            features|\n",
      "+--------+----------+------------+------+--------+--------+------------+-------------+--------------------+\n",
      "|10224738|2015-09-05|     BATTERY|     0|       1|     009|41.815117282|-87.669999562|[41.815117282,-87...|\n",
      "|10224739|2015-09-04|       THEFT|     0|       0|     015|41.895080471|-87.765400451|[41.895080471,-87...|\n",
      "+--------+----------+------------+------+--------+--------+------------+-------------+--------------------+\n",
      "only showing top 2 rows\n",
      "\n"
     ]
    }
   ],
   "source": [
    "chicago_raw.columns\n",
    "\n",
    "assemble=VectorAssembler(inputCols=[\n",
    "\n",
    " #'Arrest',\n",
    " #'Domestic',\n",
    "\n",
    " 'Latitude',\n",
    " 'Longitude'], outputCol='features')\n",
    "\n",
    "assembled_data=assemble.transform(chicago_raw)\n",
    "\n",
    "assembled_data.show(2)"
   ]
  },
  {
   "cell_type": "code",
   "execution_count": null,
   "metadata": {},
   "outputs": [],
   "source": []
  },
  {
   "cell_type": "code",
   "execution_count": null,
   "metadata": {},
   "outputs": [],
   "source": []
  },
  {
   "cell_type": "code",
   "execution_count": 11,
   "metadata": {},
   "outputs": [
    {
     "name": "stdout",
     "output_type": "stream",
     "text": [
      "+--------+----------+------------+------+--------+--------+------------+-------------+--------------------+--------------------+\n",
      "|      ID|      Date|Primary Type|Arrest|Domestic|District|    Latitude|    Longitude|            features|        standardized|\n",
      "+--------+----------+------------+------+--------+--------+------------+-------------+--------------------+--------------------+\n",
      "|10224738|2015-09-05|     BATTERY|     0|       1|     009|41.815117282|-87.669999562|[41.815117282,-87...|[470.841491664678...|\n",
      "|10224739|2015-09-04|       THEFT|     0|       0|     015|41.895080471|-87.765400451|[41.895080471,-87...|[471.741883428095...|\n",
      "+--------+----------+------------+------+--------+--------+------------+-------------+--------------------+--------------------+\n",
      "only showing top 2 rows\n",
      "\n"
     ]
    }
   ],
   "source": [
    "scale=StandardScaler(inputCol='features',outputCol='standardized')\n",
    "data_scale=scale.fit(assembled_data)\n",
    "data_scale_output=data_scale.transform(assembled_data)\n",
    "data_scale_output.show(2)"
   ]
  },
  {
   "cell_type": "code",
   "execution_count": 12,
   "metadata": {},
   "outputs": [
    {
     "name": "stdout",
     "output_type": "stream",
     "text": [
      "+--------+----------+------------+------+--------+--------+------------+-------------+--------------------+--------------------+\n",
      "|      ID|      Date|Primary Type|Arrest|Domestic|District|    Latitude|    Longitude|            features|        standardized|\n",
      "+--------+----------+------------+------+--------+--------+------------+-------------+--------------------+--------------------+\n",
      "|10224738|2015-09-05|     BATTERY|     0|       1|     009|41.815117282|-87.669999562|[41.815117282,-87...|[470.841491664678...|\n",
      "|10224739|2015-09-04|       THEFT|     0|       0|     015|41.895080471|-87.765400451|[41.895080471,-87...|[471.741883428095...|\n",
      "|10224740|2015-09-05|   NARCOTICS|     1|       0|     014|41.937405765|-87.716649687|[41.937405765,-87...|[472.218469549514...|\n",
      "|10224741|2015-09-05|     ASSAULT|     0|       1|     015|41.881903443|-87.755121152|[41.881903443,-87...|[471.593509062016...|\n",
      "|10224742|2015-09-05|    BURGLARY|     0|       0|     006|41.744378879|-87.658430635|[41.744378879,-87...|[470.044971713248...|\n",
      "|10224743|2015-09-04|    BURGLARY|     0|       0|     014|41.914635603|-87.681630909|[41.914635603,-87...|[471.962075744154...|\n",
      "|10224744|2015-09-05|       THEFT|     1|       0|     010|41.851988885|-87.689219118|[41.851988885,-87...|[471.256668798812...|\n",
      "|10224745|2015-09-05|     ROBBERY|     0|       1|     012| 41.88281374|-87.704325717|[41.88281374,-87....|[471.603759077446...|\n",
      "|10224746|2015-09-05|       THEFT|     0|       0|     008|41.763647552|-87.722344693|[41.763647552,-87...|[470.261938478558...|\n",
      "|10224749|2015-09-05|     BATTERY|     0|       0|     016|41.975968415|-87.768014257|[41.975968415,-87...|[472.652688005153...|\n",
      "+--------+----------+------------+------+--------+--------+------------+-------------+--------------------+--------------------+\n",
      "only showing top 10 rows\n",
      "\n"
     ]
    }
   ],
   "source": [
    "data_scale_output.show(10)"
   ]
  },
  {
   "cell_type": "code",
   "execution_count": 13,
   "metadata": {},
   "outputs": [
    {
     "name": "stdout",
     "output_type": "stream",
     "text": [
      "Silhouette with squared euclidean distance = 0.48261223844127127\n",
      "Cluster Centers: \n",
      "[  471.9564873  -1436.11499715]\n",
      "[  469.87760278 -1434.41555819]\n",
      "[  412.33783104 -1500.60398298]\n",
      "[  472.03282339 -1434.68056177]\n",
      "[  470.75754884 -1435.31146918]\n",
      "[  470.3224221  -1433.60216017]\n"
     ]
    }
   ],
   "source": [
    "# Trains a k-means model.\n",
    "kmeans = KMeans(featuresCol='standardized').setK(6).setSeed(1)\n",
    "model = kmeans.fit(data_scale_output)\n",
    "\n",
    "# Make predictions\n",
    "predictions = model.transform(data_scale_output)\n",
    "\n",
    "# Evaluate clustering by computing Silhouette score\n",
    "evaluator = ClusteringEvaluator()\n",
    "\n",
    "silhouette = evaluator.evaluate(predictions)\n",
    "print(\"Silhouette with squared euclidean distance = \" + str(silhouette))\n",
    "\n",
    "# Shows the result.\n",
    "centers = model.clusterCenters()\n",
    "print(\"Cluster Centers: \")\n",
    "for center in centers:\n",
    "     print(center)"
   ]
  },
  {
   "cell_type": "code",
   "execution_count": null,
   "metadata": {},
   "outputs": [
    {
     "name": "stdout",
     "output_type": "stream",
     "text": [
      "Silhouette Score: 0.6434046329356482\n",
      "Silhouette Score: 0.5593517933164313\n",
      "Silhouette Score: 0.5996666283991192\n",
      "Silhouette Score: 0.562266259462373\n",
      "Silhouette Score: 0.5472363585069596\n"
     ]
    }
   ],
   "source": [
    "#Tenemos que estudiar como se está calculando el evaluador, si es mejor bajo o alto y utilizar la distancia a Manhattan\n",
    "silhouette_score=[]\n",
    "evaluator = ClusteringEvaluator(predictionCol='prediction', featuresCol='standardized', metricName='silhouette', \n",
    "                                distanceMeasure='squaredEuclidean')\n",
    "\n",
    "for i in range(2,10):\n",
    "    KMeans_algo=KMeans(featuresCol='standardized', k=i)\n",
    "    #KMeans_algo=KMeans(featuresCol='standardized', k=2)\n",
    "    \n",
    "    KMeans_fit=KMeans_algo.fit(data_scale_output)\n",
    "    \n",
    "    output=KMeans_fit.transform(data_scale_output)\n",
    "    \n",
    "    \n",
    "    \n",
    "    score=evaluator.evaluate(output)\n",
    "    \n",
    "    silhouette_score.append(score)\n",
    "    \n",
    "    print(\"Silhouette Score:\",score)"
   ]
  },
  {
   "cell_type": "code",
   "execution_count": 16,
   "metadata": {},
   "outputs": [
    {
     "ename": "ValueError",
     "evalue": "x and y must have same first dimension, but have shapes (8,) and (1,)",
     "output_type": "error",
     "traceback": [
      "\u001b[1;31m---------------------------------------------------------------------------\u001b[0m",
      "\u001b[1;31mValueError\u001b[0m                                Traceback (most recent call last)",
      "\u001b[1;32m<ipython-input-16-93c18632d20a>\u001b[0m in \u001b[0;36m<module>\u001b[1;34m\u001b[0m\n\u001b[0;32m      2\u001b[0m \u001b[1;33m\u001b[0m\u001b[0m\n\u001b[0;32m      3\u001b[0m \u001b[0mfig\u001b[0m\u001b[1;33m,\u001b[0m \u001b[0max\u001b[0m \u001b[1;33m=\u001b[0m \u001b[0mplt\u001b[0m\u001b[1;33m.\u001b[0m\u001b[0msubplots\u001b[0m\u001b[1;33m(\u001b[0m\u001b[1;36m1\u001b[0m\u001b[1;33m,\u001b[0m\u001b[1;36m1\u001b[0m\u001b[1;33m,\u001b[0m \u001b[0mfigsize\u001b[0m \u001b[1;33m=\u001b[0m\u001b[1;33m(\u001b[0m\u001b[1;36m8\u001b[0m\u001b[1;33m,\u001b[0m\u001b[1;36m6\u001b[0m\u001b[1;33m)\u001b[0m\u001b[1;33m)\u001b[0m\u001b[1;33m\u001b[0m\u001b[1;33m\u001b[0m\u001b[0m\n\u001b[1;32m----> 4\u001b[1;33m \u001b[0max\u001b[0m\u001b[1;33m.\u001b[0m\u001b[0mplot\u001b[0m\u001b[1;33m(\u001b[0m\u001b[0mrange\u001b[0m\u001b[1;33m(\u001b[0m\u001b[1;36m2\u001b[0m\u001b[1;33m,\u001b[0m\u001b[1;36m10\u001b[0m\u001b[1;33m)\u001b[0m\u001b[1;33m,\u001b[0m\u001b[0msilhouette\u001b[0m\u001b[1;33m)\u001b[0m\u001b[1;33m\u001b[0m\u001b[1;33m\u001b[0m\u001b[0m\n\u001b[0m\u001b[0;32m      5\u001b[0m \u001b[0max\u001b[0m\u001b[1;33m.\u001b[0m\u001b[0mset_xlabel\u001b[0m\u001b[1;33m(\u001b[0m\u001b[1;34m'k'\u001b[0m\u001b[1;33m)\u001b[0m\u001b[1;33m\u001b[0m\u001b[1;33m\u001b[0m\u001b[0m\n\u001b[0;32m      6\u001b[0m \u001b[0max\u001b[0m\u001b[1;33m.\u001b[0m\u001b[0mset_ylabel\u001b[0m\u001b[1;33m(\u001b[0m\u001b[1;34m'cost'\u001b[0m\u001b[1;33m)\u001b[0m\u001b[1;33m\u001b[0m\u001b[1;33m\u001b[0m\u001b[0m\n",
      "\u001b[1;32m~\\anaconda3\\lib\\site-packages\\matplotlib\\axes\\_axes.py\u001b[0m in \u001b[0;36mplot\u001b[1;34m(self, scalex, scaley, data, *args, **kwargs)\u001b[0m\n\u001b[0;32m   1741\u001b[0m         \"\"\"\n\u001b[0;32m   1742\u001b[0m         \u001b[0mkwargs\u001b[0m \u001b[1;33m=\u001b[0m \u001b[0mcbook\u001b[0m\u001b[1;33m.\u001b[0m\u001b[0mnormalize_kwargs\u001b[0m\u001b[1;33m(\u001b[0m\u001b[0mkwargs\u001b[0m\u001b[1;33m,\u001b[0m \u001b[0mmlines\u001b[0m\u001b[1;33m.\u001b[0m\u001b[0mLine2D\u001b[0m\u001b[1;33m)\u001b[0m\u001b[1;33m\u001b[0m\u001b[1;33m\u001b[0m\u001b[0m\n\u001b[1;32m-> 1743\u001b[1;33m         \u001b[0mlines\u001b[0m \u001b[1;33m=\u001b[0m \u001b[1;33m[\u001b[0m\u001b[1;33m*\u001b[0m\u001b[0mself\u001b[0m\u001b[1;33m.\u001b[0m\u001b[0m_get_lines\u001b[0m\u001b[1;33m(\u001b[0m\u001b[1;33m*\u001b[0m\u001b[0margs\u001b[0m\u001b[1;33m,\u001b[0m \u001b[0mdata\u001b[0m\u001b[1;33m=\u001b[0m\u001b[0mdata\u001b[0m\u001b[1;33m,\u001b[0m \u001b[1;33m**\u001b[0m\u001b[0mkwargs\u001b[0m\u001b[1;33m)\u001b[0m\u001b[1;33m]\u001b[0m\u001b[1;33m\u001b[0m\u001b[1;33m\u001b[0m\u001b[0m\n\u001b[0m\u001b[0;32m   1744\u001b[0m         \u001b[1;32mfor\u001b[0m \u001b[0mline\u001b[0m \u001b[1;32min\u001b[0m \u001b[0mlines\u001b[0m\u001b[1;33m:\u001b[0m\u001b[1;33m\u001b[0m\u001b[1;33m\u001b[0m\u001b[0m\n\u001b[0;32m   1745\u001b[0m             \u001b[0mself\u001b[0m\u001b[1;33m.\u001b[0m\u001b[0madd_line\u001b[0m\u001b[1;33m(\u001b[0m\u001b[0mline\u001b[0m\u001b[1;33m)\u001b[0m\u001b[1;33m\u001b[0m\u001b[1;33m\u001b[0m\u001b[0m\n",
      "\u001b[1;32m~\\anaconda3\\lib\\site-packages\\matplotlib\\axes\\_base.py\u001b[0m in \u001b[0;36m__call__\u001b[1;34m(self, data, *args, **kwargs)\u001b[0m\n\u001b[0;32m    271\u001b[0m                 \u001b[0mthis\u001b[0m \u001b[1;33m+=\u001b[0m \u001b[0margs\u001b[0m\u001b[1;33m[\u001b[0m\u001b[1;36m0\u001b[0m\u001b[1;33m]\u001b[0m\u001b[1;33m,\u001b[0m\u001b[1;33m\u001b[0m\u001b[1;33m\u001b[0m\u001b[0m\n\u001b[0;32m    272\u001b[0m                 \u001b[0margs\u001b[0m \u001b[1;33m=\u001b[0m \u001b[0margs\u001b[0m\u001b[1;33m[\u001b[0m\u001b[1;36m1\u001b[0m\u001b[1;33m:\u001b[0m\u001b[1;33m]\u001b[0m\u001b[1;33m\u001b[0m\u001b[1;33m\u001b[0m\u001b[0m\n\u001b[1;32m--> 273\u001b[1;33m             \u001b[1;32myield\u001b[0m \u001b[1;32mfrom\u001b[0m \u001b[0mself\u001b[0m\u001b[1;33m.\u001b[0m\u001b[0m_plot_args\u001b[0m\u001b[1;33m(\u001b[0m\u001b[0mthis\u001b[0m\u001b[1;33m,\u001b[0m \u001b[0mkwargs\u001b[0m\u001b[1;33m)\u001b[0m\u001b[1;33m\u001b[0m\u001b[1;33m\u001b[0m\u001b[0m\n\u001b[0m\u001b[0;32m    274\u001b[0m \u001b[1;33m\u001b[0m\u001b[0m\n\u001b[0;32m    275\u001b[0m     \u001b[1;32mdef\u001b[0m \u001b[0mget_next_color\u001b[0m\u001b[1;33m(\u001b[0m\u001b[0mself\u001b[0m\u001b[1;33m)\u001b[0m\u001b[1;33m:\u001b[0m\u001b[1;33m\u001b[0m\u001b[1;33m\u001b[0m\u001b[0m\n",
      "\u001b[1;32m~\\anaconda3\\lib\\site-packages\\matplotlib\\axes\\_base.py\u001b[0m in \u001b[0;36m_plot_args\u001b[1;34m(self, tup, kwargs)\u001b[0m\n\u001b[0;32m    397\u001b[0m \u001b[1;33m\u001b[0m\u001b[0m\n\u001b[0;32m    398\u001b[0m         \u001b[1;32mif\u001b[0m \u001b[0mx\u001b[0m\u001b[1;33m.\u001b[0m\u001b[0mshape\u001b[0m\u001b[1;33m[\u001b[0m\u001b[1;36m0\u001b[0m\u001b[1;33m]\u001b[0m \u001b[1;33m!=\u001b[0m \u001b[0my\u001b[0m\u001b[1;33m.\u001b[0m\u001b[0mshape\u001b[0m\u001b[1;33m[\u001b[0m\u001b[1;36m0\u001b[0m\u001b[1;33m]\u001b[0m\u001b[1;33m:\u001b[0m\u001b[1;33m\u001b[0m\u001b[1;33m\u001b[0m\u001b[0m\n\u001b[1;32m--> 399\u001b[1;33m             raise ValueError(f\"x and y must have same first dimension, but \"\n\u001b[0m\u001b[0;32m    400\u001b[0m                              f\"have shapes {x.shape} and {y.shape}\")\n\u001b[0;32m    401\u001b[0m         \u001b[1;32mif\u001b[0m \u001b[0mx\u001b[0m\u001b[1;33m.\u001b[0m\u001b[0mndim\u001b[0m \u001b[1;33m>\u001b[0m \u001b[1;36m2\u001b[0m \u001b[1;32mor\u001b[0m \u001b[0my\u001b[0m\u001b[1;33m.\u001b[0m\u001b[0mndim\u001b[0m \u001b[1;33m>\u001b[0m \u001b[1;36m2\u001b[0m\u001b[1;33m:\u001b[0m\u001b[1;33m\u001b[0m\u001b[1;33m\u001b[0m\u001b[0m\n",
      "\u001b[1;31mValueError\u001b[0m: x and y must have same first dimension, but have shapes (8,) and (1,)"
     ]
    },
    {
     "data": {
      "image/png": "[encoded data removed]",
      "text/plain": [
       "<Figure size 576x432 with 1 Axes>"
      ]
     },
     "metadata": {
      "needs_background": "light"
     },
     "output_type": "display_data"
    }
   ],
   "source": [
    "#Visualizing the silhouette scores in a plot\n",
    "\n",
    "fig, ax = plt.subplots(1,1, figsize =(8,6))\n",
    "ax.plot(range(2,10),silhouette_score)\n",
    "ax.set_xlabel('k')\n",
    "ax.set_ylabel('cost')"
   ]
  },
  {
   "cell_type": "code",
   "execution_count": 18,
   "metadata": {},
   "outputs": [
    {
     "name": "stdout",
     "output_type": "stream",
     "text": [
      "+--------+----------+------------+------+--------+--------+------------+-------------+--------------------+--------------------+----------+\n",
      "|      ID|      Date|Primary Type|Arrest|Domestic|District|    Latitude|    Longitude|            features|        standardized|prediction|\n",
      "+--------+----------+------------+------+--------+--------+------------+-------------+--------------------+--------------------+----------+\n",
      "|10224738|2015-09-05|     BATTERY|     0|       1|     009|41.815117282|-87.669999562|[41.815117282,-87...|[470.841491664678...|         4|\n",
      "|10224739|2015-09-04|       THEFT|     0|       0|     015|41.895080471|-87.765400451|[41.895080471,-87...|[471.741883428095...|         0|\n",
      "|10224740|2015-09-05|   NARCOTICS|     1|       0|     014|41.937405765|-87.716649687|[41.937405765,-87...|[472.218469549514...|         0|\n",
      "|10224741|2015-09-05|     ASSAULT|     0|       1|     015|41.881903443|-87.755121152|[41.881903443,-87...|[471.593509062016...|         0|\n",
      "|10224742|2015-09-05|    BURGLARY|     0|       0|     006|41.744378879|-87.658430635|[41.744378879,-87...|[470.044971713248...|         1|\n",
      "|10224743|2015-09-04|    BURGLARY|     0|       0|     014|41.914635603|-87.681630909|[41.914635603,-87...|[471.962075744154...|         3|\n",
      "|10224744|2015-09-05|       THEFT|     1|       0|     010|41.851988885|-87.689219118|[41.851988885,-87...|[471.256668798812...|         4|\n",
      "|10224745|2015-09-05|     ROBBERY|     0|       1|     012| 41.88281374|-87.704325717|[41.88281374,-87....|[471.603759077446...|         0|\n",
      "|10224746|2015-09-05|       THEFT|     0|       0|     008|41.763647552|-87.722344693|[41.763647552,-87...|[470.261938478558...|         4|\n",
      "|10224749|2015-09-05|     BATTERY|     0|       0|     016|41.975968415|-87.768014257|[41.975968415,-87...|[472.652688005153...|         0|\n",
      "+--------+----------+------------+------+--------+--------+------------+-------------+--------------------+--------------------+----------+\n",
      "only showing top 10 rows\n",
      "\n"
     ]
    }
   ],
   "source": [
    "predictions.show(10)"
   ]
  },
  {
   "cell_type": "code",
   "execution_count": 19,
   "metadata": {},
   "outputs": [],
   "source": [
    "predictions_processed1 = predictions[['ID','Primary Type','Arrest','Domestic','prediction']]"
   ]
  },
  {
   "cell_type": "code",
   "execution_count": 20,
   "metadata": {},
   "outputs": [
    {
     "name": "stdout",
     "output_type": "stream",
     "text": [
      "+--------+------------+------+--------+----------+\n",
      "|      ID|Primary Type|Arrest|Domestic|prediction|\n",
      "+--------+------------+------+--------+----------+\n",
      "|10224738|     BATTERY|     0|       1|         4|\n",
      "|10224739|       THEFT|     0|       0|         0|\n",
      "|10224740|   NARCOTICS|     1|       0|         0|\n",
      "|10224741|     ASSAULT|     0|       1|         0|\n",
      "|10224742|    BURGLARY|     0|       0|         1|\n",
      "|10224743|    BURGLARY|     0|       0|         3|\n",
      "|10224744|       THEFT|     1|       0|         4|\n",
      "|10224745|     ROBBERY|     0|       1|         0|\n",
      "|10224746|       THEFT|     0|       0|         4|\n",
      "|10224749|     BATTERY|     0|       0|         0|\n",
      "+--------+------------+------+--------+----------+\n",
      "only showing top 10 rows\n",
      "\n"
     ]
    }
   ],
   "source": [
    "predictions_processed1.show(10)"
   ]
  },
  {
   "cell_type": "code",
   "execution_count": 26,
   "metadata": {},
   "outputs": [],
   "source": [
    "predictions_processed1.write.csv(\"C:/Users/dario/Work/Universidad/1.Master/3.Semestre/3.Big_Data/Resultados/predictionsProcessed1.csv\")"
   ]
  },
  {
   "cell_type": "code",
   "execution_count": 21,
   "metadata": {},
   "outputs": [
    {
     "name": "stdout",
     "output_type": "stream",
     "text": [
      "+--------------------+------+--------+----------+-----+\n",
      "|        Primary Type|Arrest|Domestic|prediction|count|\n",
      "+--------------------+------+--------+----------+-----+\n",
      "|          KIDNAPPING|     1|       0|         0|  143|\n",
      "|        NON-CRIMINAL|     1|       0|         1|    1|\n",
      "|            GAMBLING|     0|       0|         5|   30|\n",
      "|             ASSAULT|     0|       0|         3|56731|\n",
      "|      NON - CRIMINAL|     0|       0|         3|    4|\n",
      "|        PROSTITUTION|     1|       0|         4|13385|\n",
      "|            GAMBLING|     1|       0|         5| 2781|\n",
      "|       OTHER OFFENSE|     1|       0|         5|12038|\n",
      "|       OTHER OFFENSE|     1|       0|         1|11785|\n",
      "|PUBLIC PEACE VIOL...|     0|       0|         5| 2568|\n",
      "+--------------------+------+--------+----------+-----+\n",
      "only showing top 10 rows\n",
      "\n"
     ]
    }
   ],
   "source": [
    "predictions_processed1=predictions_processed1.groupBy('Primary Type','Arrest','Domestic','prediction') \\\n",
    ".count() \\\n",
    ".alias('num_crimes') \\"
   ]
  },
  {
   "cell_type": "code",
   "execution_count": 22,
   "metadata": {},
   "outputs": [
    {
     "name": "stdout",
     "output_type": "stream",
     "text": [
      "+--------+------------+------+--------+----------+\n",
      "|      ID|Primary Type|Arrest|Domestic|prediction|\n",
      "+--------+------------+------+--------+----------+\n",
      "|10224738|     BATTERY|     0|       1|         4|\n",
      "|10224739|       THEFT|     0|       0|         0|\n",
      "|10224740|   NARCOTICS|     1|       0|         0|\n",
      "|10224741|     ASSAULT|     0|       1|         0|\n",
      "|10224742|    BURGLARY|     0|       0|         1|\n",
      "|10224743|    BURGLARY|     0|       0|         3|\n",
      "|10224744|       THEFT|     1|       0|         4|\n",
      "|10224745|     ROBBERY|     0|       1|         0|\n",
      "|10224746|       THEFT|     0|       0|         4|\n",
      "|10224749|     BATTERY|     0|       0|         0|\n",
      "+--------+------------+------+--------+----------+\n",
      "only showing top 10 rows\n",
      "\n"
     ]
    }
   ],
   "source": [
    "predictions_processed1.show(10)"
   ]
  },
  {
   "cell_type": "markdown",
   "metadata": {},
   "source": [
    "Agregamos el dataframe para trabajar con algo más ligero y manejable. Esto nos permite un desarrollo más ágil y menor tiempo de computo de cada celda posterior."
   ]
  },
  {
   "cell_type": "code",
   "execution_count": 42,
   "metadata": {},
   "outputs": [],
   "source": [
    "predictions_processed1 = predictions_processed1.groupBy('Primary Type','Arrest','Domestic','prediction') \\\n",
    ".count() \\\n",
    ".withColumnRenamed(\"count\",\"num_crimes\")"
   ]
  },
  {
   "cell_type": "code",
   "execution_count": 43,
   "metadata": {},
   "outputs": [
    {
     "name": "stdout",
     "output_type": "stream",
     "text": [
      "+--------------------+------+--------+----------+----------+\n",
      "|        Primary Type|Arrest|Domestic|prediction|num_crimes|\n",
      "+--------------------+------+--------+----------+----------+\n",
      "|          KIDNAPPING|     1|       0|         0|       143|\n",
      "|        NON-CRIMINAL|     1|       0|         1|         1|\n",
      "|            GAMBLING|     0|       0|         5|        30|\n",
      "|             ASSAULT|     0|       0|         3|     56731|\n",
      "|      NON - CRIMINAL|     0|       0|         3|         4|\n",
      "|        PROSTITUTION|     1|       0|         4|     13385|\n",
      "|            GAMBLING|     1|       0|         5|      2781|\n",
      "|       OTHER OFFENSE|     1|       0|         5|     12038|\n",
      "|       OTHER OFFENSE|     1|       0|         1|     11785|\n",
      "|PUBLIC PEACE VIOL...|     0|       0|         5|      2568|\n",
      "+--------------------+------+--------+----------+----------+\n",
      "only showing top 10 rows\n",
      "\n"
     ]
    }
   ],
   "source": [
    "predictions_processed1.show(10)"
   ]
  },
  {
   "cell_type": "code",
   "execution_count": 44,
   "metadata": {},
   "outputs": [
    {
     "data": {
      "text/plain": [
       "615"
      ]
     },
     "execution_count": 44,
     "metadata": {},
     "output_type": "execute_result"
    }
   ],
   "source": [
    "predictions_processed1.count()"
   ]
  },
  {
   "cell_type": "markdown",
   "metadata": {},
   "source": [
    "Empezamos a dibujar los poligonos"
   ]
  },
  {
   "cell_type": "code",
   "execution_count": 45,
   "metadata": {},
   "outputs": [
    {
     "name": "stdout",
     "output_type": "stream",
     "text": [
      "+----------+------------+-------------+\n",
      "|prediction|    Latitude|    Longitude|\n",
      "+----------+------------+-------------+\n",
      "|         4|41.815117282|-87.669999562|\n",
      "|         0|41.895080471|-87.765400451|\n",
      "|         0|41.937405765|-87.716649687|\n",
      "|         0|41.881903443|-87.755121152|\n",
      "|         1|41.744378879|-87.658430635|\n",
      "|         3|41.914635603|-87.681630909|\n",
      "|         4|41.851988885|-87.689219118|\n",
      "|         0| 41.88281374|-87.704325717|\n",
      "|         4|41.763647552|-87.722344693|\n",
      "|         0|41.975968415|-87.768014257|\n",
      "+----------+------------+-------------+\n",
      "only showing top 10 rows\n",
      "\n"
     ]
    }
   ],
   "source": [
    "poligonos=predictions[['prediction','Latitude','Longitude']]\n",
    "poligonos.show(10)"
   ]
  },
  {
   "cell_type": "code",
   "execution_count": 46,
   "metadata": {},
   "outputs": [
    {
     "data": {
      "text/plain": [
       "7358359"
      ]
     },
     "execution_count": 46,
     "metadata": {},
     "output_type": "execute_result"
    }
   ],
   "source": [
    "poligonos.count()"
   ]
  },
  {
   "cell_type": "code",
   "execution_count": 47,
   "metadata": {},
   "outputs": [],
   "source": [
    "poligonos_processed = poligonos.groupBy('prediction','Latitude','Longitude') \\\n",
    ".count() \\\n",
    ".withColumnRenamed(\"count\",\"num_crimes\")"
   ]
  },
  {
   "cell_type": "code",
   "execution_count": 48,
   "metadata": {},
   "outputs": [
    {
     "data": {
      "text/plain": [
       "880735"
      ]
     },
     "execution_count": 48,
     "metadata": {},
     "output_type": "execute_result"
    }
   ],
   "source": [
    "poligonos_processed.count()"
   ]
  },
  {
   "cell_type": "code",
   "execution_count": null,
   "metadata": {},
   "outputs": [],
   "source": []
  },
  {
   "cell_type": "code",
   "execution_count": null,
   "metadata": {},
   "outputs": [],
   "source": []
  },
  {
   "cell_type": "code",
   "execution_count": null,
   "metadata": {},
   "outputs": [],
   "source": []
  },
  {
   "cell_type": "code",
   "execution_count": null,
   "metadata": {},
   "outputs": [],
   "source": []
  },
  {
   "cell_type": "code",
   "execution_count": null,
   "metadata": {},
   "outputs": [],
   "source": []
  },
  {
   "cell_type": "code",
   "execution_count": null,
   "metadata": {},
   "outputs": [],
   "source": []
  }
 ],
 "metadata": {
  "kernelspec": {
   "display_name": "Python 3",
   "language": "python",
   "name": "python3"
  },
  "language_info": {
   "codemirror_mode": {
    "name": "ipython",
    "version": 3
   },
   "file_extension": ".py",
   "mimetype": "text/x-python",
   "name": "python",
   "nbconvert_exporter": "python",
   "pygments_lexer": "ipython3",
   "version": "3.8.8"
  }
 },
 "nbformat": 4,
 "nbformat_minor": 2
}
